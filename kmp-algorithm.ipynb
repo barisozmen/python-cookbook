{
 "cells": [
  {
   "cell_type": "markdown",
   "metadata": {},
   "source": [
    "# Knuth-Morris-Pratt Algorithm (KMP)\n",
    "\n",
    "- An efficient string-searching algorithm used to find occurrences of a \"pattern\" string within a \"text\" string\n",
    "- improves upon the naive string-searching approach by avoiding unnecessary comparisons.\n",
    "## Time Complexity\n",
    "$O(n + m)$,\n",
    "n -> length of text\n",
    "m -> length of pattern\n",
    "This efficiency is due to the preprocessing step and the use of the partial match table to minimize redundant comparisons.\n",
    "\n",
    "## How it works\n",
    "1. **Preprocessing**:\n",
    "    - Create a \"partial match\" table (or `lps` array) for the pattern. (lps = longest prefix suffix)\n",
    "    - This table helps determine how far to shift the pattern when a mismatch occurs, based on the longest prefix which is also a suffix.\n",
    "2. **Searching**:\n",
    "    - Compare the pattern with the text using two pointers.\n",
    "    - If characters match, move both pointers forward.\n",
    "    - If a mismatch occurs, use the `lps` table to shift the pattern pointer without moving the text pointer back.\n",
    "\n",
    "## Steps of the KMP Algorithm\n",
    "1. **Build the `lps` Table**:\n",
    "    - Initialize `lps` with zeros.\n",
    "    - Use two pointers to fill the table by checking for matching prefixes and suffixes in the pattern.\n",
    "2. **Pattern Search**:\n",
    "    - Start with pointers at the beginning of the text and pattern.\n",
    "    - On a match, move both pointers forward.\n",
    "    - On a mismatch, use the `lps` table to adjust the pattern pointer, keeping the text pointer in place if possible.\n",
    "\n",
    "This approach ensures that each character in the text is compared at most once, leading to an efficient search process.\n",
    "\n",
    "##  Knuth talks about the algorithm on Lex Fridman\n",
    "![video][https://www.youtube.com/watch?v=Jr687rFRh4g]\n"
   ]
  },
  {
   "cell_type": "code",
   "execution_count": 2,
   "metadata": {},
   "outputs": [],
   "source": [
    "def compute_lps(pattern):\n",
    "    lps = [0] * len(pattern)\n",
    "    length = 0  # length of the previous longest prefix suffix\n",
    "    i = 1\n",
    "\n",
    "    while i < len(pattern):\n",
    "        if pattern[i] == pattern[length]:\n",
    "            length += 1\n",
    "            lps[i] = length\n",
    "            i += 1\n",
    "        else:\n",
    "            if length != 0:\n",
    "                length = lps[length - 1]\n",
    "            else:\n",
    "                lps[i] = 0\n",
    "                i += 1\n",
    "\n",
    "    return lps"
   ]
  },
  {
   "cell_type": "code",
   "execution_count": 3,
   "metadata": {},
   "outputs": [],
   "source": [
    "def kmp_search(text, pattern):\n",
    "    lps = compute_lps(pattern)\n",
    "    i = 0  # index for text\n",
    "    j = 0  # index for pattern\n",
    "    matches = []\n",
    "\n",
    "    while i < len(text):\n",
    "        if pattern[j] == text[i]:\n",
    "            i += 1\n",
    "            j += 1\n",
    "\n",
    "        if j == len(pattern):\n",
    "            matches.append(i - j)\n",
    "            j = lps[j - 1]\n",
    "        elif i < len(text) and pattern[j] != text[i]:\n",
    "            if j != 0:\n",
    "                j = lps[j - 1]\n",
    "            else:\n",
    "                i += 1\n",
    "\n",
    "    return matches, lps\n"
   ]
  },
  {
   "cell_type": "code",
   "execution_count": 4,
   "metadata": {},
   "outputs": [
    {
     "name": "stdout",
     "output_type": "stream",
     "text": [
      "Pattern found at indices: [0, 9, 12]\n",
      "\n",
      "LPS array: [0, 1, 0, 1]\n"
     ]
    }
   ],
   "source": [
    "# Example usage\n",
    "text = \"AABAACAADAABAABA\"\n",
    "pattern = \"AABA\"\n",
    "result, lps = kmp_search(text, pattern)\n",
    "print(\"Pattern found at indices:\", result)\n",
    "print(\"\\nLPS array:\", lps)"
   ]
  },
  {
   "cell_type": "code",
   "execution_count": null,
   "metadata": {},
   "outputs": [],
   "source": []
  }
 ],
 "metadata": {
  "kernelspec": {
   "display_name": "Python 3",
   "language": "python",
   "name": "python3"
  },
  "language_info": {
   "codemirror_mode": {
    "name": "ipython",
    "version": 3
   },
   "file_extension": ".py",
   "mimetype": "text/x-python",
   "name": "python",
   "nbconvert_exporter": "python",
   "pygments_lexer": "ipython3",
   "version": "3.11.5"
  }
 },
 "nbformat": 4,
 "nbformat_minor": 2
}
